{
 "cells": [
  {
   "cell_type": "code",
   "execution_count": 1,
   "metadata": {},
   "outputs": [],
   "source": [
    " from sklearn import datasets\n",
    "mnist = datasets.load_digits()\n"
   ]
  },
  {
   "cell_type": "code",
   "execution_count": 2,
   "metadata": {},
   "outputs": [],
   "source": [
    "X,Y=mnist['data'],mnist['target']"
   ]
  },
  {
   "cell_type": "code",
   "execution_count": 3,
   "metadata": {},
   "outputs": [
    {
     "data": {
      "text/plain": [
       "(1797, 64)"
      ]
     },
     "execution_count": 3,
     "metadata": {},
     "output_type": "execute_result"
    }
   ],
   "source": [
    "X.shape"
   ]
  },
  {
   "cell_type": "code",
   "execution_count": 4,
   "metadata": {},
   "outputs": [
    {
     "data": {
      "text/plain": [
       "(1797,)"
      ]
     },
     "execution_count": 4,
     "metadata": {},
     "output_type": "execute_result"
    }
   ],
   "source": [
    "Y.shape"
   ]
  },
  {
   "cell_type": "code",
   "execution_count": 5,
   "metadata": {},
   "outputs": [
    {
     "data": {
      "text/plain": [
       "array([[ 0.,  0.,  5., ...,  0.,  0.,  0.],\n",
       "       [ 0.,  0.,  0., ..., 10.,  0.,  0.],\n",
       "       [ 0.,  0.,  0., ..., 16.,  9.,  0.],\n",
       "       ...,\n",
       "       [ 0.,  0.,  1., ...,  6.,  0.,  0.],\n",
       "       [ 0.,  0.,  2., ..., 12.,  0.,  0.],\n",
       "       [ 0.,  0., 10., ..., 12.,  1.,  0.]])"
      ]
     },
     "execution_count": 5,
     "metadata": {},
     "output_type": "execute_result"
    }
   ],
   "source": [
    "X"
   ]
  },
  {
   "cell_type": "code",
   "execution_count": 17,
   "metadata": {},
   "outputs": [
    {
     "data": {
      "image/png": "[encoded data removed]",
      "text/plain": [
       "<Figure size 432x288 with 1 Axes>"
      ]
     },
     "metadata": {
      "needs_background": "light"
     },
     "output_type": "display_data"
    }
   ],
   "source": [
    "import matplotlib\n",
    "import matplotlib.pyplot as plt\n",
    "some_digit = X[50]\n",
    "some_digit_image = some_digit.reshape(8, 8)\n",
    "plt.imshow(some_digit_image, cmap = matplotlib.cm.binary,\n",
    " interpolation=\"nearest\")\n",
    "plt.axis(\"off\")\n",
    "plt.show()\n"
   ]
  },
  {
   "cell_type": "code",
   "execution_count": 18,
   "metadata": {},
   "outputs": [
    {
     "data": {
      "text/plain": [
       "2"
      ]
     },
     "execution_count": 18,
     "metadata": {},
     "output_type": "execute_result"
    }
   ],
   "source": [
    "Y[50]"
   ]
  },
  {
   "cell_type": "code",
   "execution_count": 26,
   "metadata": {},
   "outputs": [
    {
     "data": {
      "text/plain": [
       "array([[ 0.,  0.,  5., ...,  0.,  0.,  0.],\n",
       "       [ 0.,  0.,  0., ..., 10.,  0.,  0.],\n",
       "       [ 0.,  0.,  0., ..., 16.,  9.,  0.],\n",
       "       ...,\n",
       "       [ 0.,  0.,  3., ...,  9.,  0.,  0.],\n",
       "       [ 0.,  0.,  0., ...,  6.,  0.,  0.],\n",
       "       [ 0.,  0.,  9., ..., 10.,  0.,  0.]])"
      ]
     },
     "execution_count": 26,
     "metadata": {},
     "output_type": "execute_result"
    }
   ],
   "source": [
    "X_train,X_test,Y_train,Y_test=X[:1000],X[1000:],Y[:1000],Y[1000:]\n",
    "X_train"
   ]
  },
  {
   "cell_type": "code",
   "execution_count": 25,
   "metadata": {},
   "outputs": [
    {
     "name": "stdout",
     "output_type": "stream",
     "text": [
      "[709 909 379 961 827 507 569 967 462  88 278 570 272 877 549 135 850  63\n",
      " 944 641 301 774 580 460 113 499 448 279 518 918 856 921 361 177 893 467\n",
      "  54 932 734 764 685 489 262 940 400  86 152 766 946 242 214 203 555 236\n",
      " 941 809  74 996 698 963 966 249  56 545 869 593 776 349 657 509 466 976\n",
      " 952 160 908   7 288 399 625 652 696 468 867 703 281 419 212 566  38 706\n",
      " 686 501 667 197 910 483 879 568 418 797 565 496 441 583 109 616 232 831\n",
      " 789 848 727 243 726 146 971 840 182 725 790 679 713 105   2 818 511 300\n",
      " 930 473 786 179 950 329 999  45  68 548 364 836 139   9 225 715 352 204\n",
      " 763 383 215 712 626 935 238 783 426 386 401 639  41 648 526  10 902  23\n",
      " 573 169 336 478 653 543 519 623 923 176 184   5 878  82 168 193 431 666\n",
      " 494  15 735 823 883 690 284 928 185 723 752 554 250 947 672 922 939 259\n",
      " 491 406 371 981 708 333 290 395 924 817 465 815 693 211  55 801 934 707\n",
      " 748 863 988 320 951 634 617 987  33 328 917 692 222 953  34 978 455 198\n",
      " 355 523 618 802 346 515 607 793 370 147  96 436 319 248 997 710 402 812\n",
      " 476  17 633 372 700 656 275 943 662 357 477 979 659 630 800 425 295  27\n",
      " 608 750 753  36 829  49  92 407 743  37 201 911  18 107 293 117 588 998\n",
      " 308 969 795 781 226 702 589 474 551 806 749 539 410 673 847  39 872 964\n",
      " 417  72 968   6 192 365 174   3 564 733 897 181 422 601 432 739 291 163\n",
      " 164 933 643 562 603 627 102 814 306 557 513 228  59  75 631 985 687 586\n",
      " 283 208 303 391  43 420 485 619 100 984 757 114 504 552 846 533 537 907\n",
      " 274 207 849 874 527 670 471 322 914 989 722 231 600 535 220 546 131 837\n",
      " 506 149 512 605 103 636 161 326 373 887 813 190 891 104 787  29 403 993\n",
      "  65 498 563 591 646 315 376 778 472 721 129 392 699 351 435 808 229 991\n",
      " 799 683 490  25  47 273 645 495 277 434 737 531 522  40 791 718  91  42\n",
      " 252 171 547 828  20 482   8 843 532 111 628 127 694 324 957 433 663 861\n",
      " 678 529 304 245 788 681 906 587 115 276 390 805 751 270  26 955 965 974\n",
      " 358 714 141 430 919 931 144 980 497 416 728 458 760 297 484 289 427 674\n",
      " 363  30  70 341 942 200 199 871 240 635 191 855 977   1  61  85 920 876\n",
      " 334 888 195 559 826 792 894 508 575 822 954 772 695 233 487   0 851  99\n",
      "  83 353 280 312 819 762 356 469 218 128  60 574 120 830  11  46 798 148\n",
      " 581 428 769 219 239 873 230  16 758 405 155 367 777 651 903  80 832 995\n",
      " 983 775 143 298 741 889 912 247 287 624 680 742 576  79 834 183 348 592\n",
      " 138 350 577 256 323 260 223 421 938 387 604  28 340 359 209 450 561  84\n",
      " 542 338 747 767 122 899 986 842 486 254 668 136 360 860  67 170 310 754\n",
      " 647 451  97 369 440 810 973 609 452 884 296 286  53 859  73 622 443 945\n",
      "   4 442 881 852 958  76 606 704 384 865 305 937 165 173 638 719 354 267\n",
      " 536 807 175 241 263  94 720 572 611 959 892 610 221 316 258 936 594 779\n",
      " 294 664  78 493 438 620 437 553 388 677 124 408 213 159  64 271 858  22\n",
      " 890 582 331 337 585  93 502 676 898 119 642 530 975 682 534 816 960 579\n",
      " 926 510 488 423 189 770 347  13 756 217 697 556 992 544 125 538 101 187\n",
      " 150 377 314 885 167 729 759 453 761 675 299 186 251 525 257 166 285 717\n",
      " 424 901 994  87 112 153 732 344 571 398 394 266 882 567 655 210 520 172\n",
      " 118 521 738 479 339  89 145 661 880 784 654  52  32 480 444 895 540  71\n",
      " 307 413 454  58 841 629 313 123 853 613 492 292 771 517 516 330 481 866\n",
      " 905 528 132 137 412 343 389 130 180 196 110 956 982 409 470 803 584 457\n",
      " 590 794 366  62 524 463 862 740  35 820 397  12 886 133 705 461 332 701\n",
      " 380 785 916 854  66 415 804 835  81 255 744 558 755 857 234 269 362 599\n",
      "  95 142 282 475  24  50 116 227 206 216 782 151 614 904 385 268 317 773\n",
      " 447 597 396 870 644 621 745 235 845 459 178 711 649 731 188 368 868 382\n",
      " 311 202 261 414 393 811 612 162 381 335 404 598 658 765 833 650 505 302\n",
      " 318 514 449 446 194 896 736 224  48 632 691 541 746 875 503 140 824 265\n",
      " 134 671 844 821 325 962 578 321  69 925 839 602  21 796 780 595 158 724\n",
      " 688 264 913 972 126 439 900 411 500 156 121 915 244 637 929 327  19 550\n",
      " 970 374 949 864  51  57 378 689  31 456 157  98 560 429 445 948 108 309\n",
      " 154 730 768  90 253 596  14 342 464  44 665 375 237 205 640 716 246 990\n",
      " 825 615 345 106 838 684  77 669 927 660]\n"
     ]
    },
    {
     "data": {
      "text/plain": [
       "array([[ 0.,  0.,  1., ...,  0.,  0.,  0.],\n",
       "       [ 0.,  0., 15., ...,  0.,  0.,  0.],\n",
       "       [ 0.,  2., 13., ...,  1.,  0.,  0.],\n",
       "       ...,\n",
       "       [ 0.,  0.,  0., ..., 11.,  0.,  0.],\n",
       "       [ 0.,  0.,  1., ..., 11.,  1.,  0.],\n",
       "       [ 0.,  0.,  0., ..., 11.,  3.,  0.]])"
      ]
     },
     "execution_count": 25,
     "metadata": {},
     "output_type": "execute_result"
    }
   ],
   "source": [
    "import numpy as np\n",
    "shuffle_index = np.random.permutation(1000)\n",
    "print(shuffle_index)\n",
    "X_train, Y_train = X_train[shuffle_index], Y_train[shuffle_index]\n",
    "X_train"
   ]
  },
  {
   "cell_type": "code",
   "execution_count": 32,
   "metadata": {},
   "outputs": [],
   "source": [
    "Y_train_2 = (Y_train == 2) # True for all 5s, False for all other digits.\n",
    "Y_test_2 = (Y_test == 2)\n"
   ]
  },
  {
   "cell_type": "code",
   "execution_count": 33,
   "metadata": {},
   "outputs": [
    {
     "data": {
      "text/plain": [
       "SGDClassifier(random_state=42)"
      ]
     },
     "execution_count": 33,
     "metadata": {},
     "output_type": "execute_result"
    }
   ],
   "source": [
    "from sklearn.linear_model import SGDClassifier\n",
    "sgd_clf = SGDClassifier(random_state=42)\n",
    "sgd_clf.fit(X_train, Y_train_2)"
   ]
  },
  {
   "cell_type": "code",
   "execution_count": 34,
   "metadata": {},
   "outputs": [
    {
     "data": {
      "text/plain": [
       "array([ True])"
      ]
     },
     "execution_count": 34,
     "metadata": {},
     "output_type": "execute_result"
    }
   ],
   "source": [
    "sgd_clf.predict([some_digit])"
   ]
  },
  {
   "cell_type": "code",
   "execution_count": null,
   "metadata": {},
   "outputs": [],
   "source": []
  }
 ],
 "metadata": {
  "kernelspec": {
   "display_name": "Python 3",
   "language": "python",
   "name": "python3"
  },
  "language_info": {
   "codemirror_mode": {
    "name": "ipython",
    "version": 3
   },
   "file_extension": ".py",
   "mimetype": "text/x-python",
   "name": "python",
   "nbconvert_exporter": "python",
   "pygments_lexer": "ipython3",
   "version": "3.8.3"
  }
 },
 "nbformat": 4,
 "nbformat_minor": 4
}
